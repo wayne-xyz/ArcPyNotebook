{
 "cells": [
  {
   "cell_type": "markdown",
   "metadata": {},
   "source": [
    "# Export image function notebook within ArcGIS Pro\n"
   ]
  },
  {
   "cell_type": "markdown",
   "metadata": {},
   "source": [
    "## Notebook for Exporting Jpeg Images from NICFI, Sentinel Datasource, Esri Source.\n",
    "\n",
    "### V2:\n",
    "- Export the Esri source `World Imagery` \n",
    "- Based on the certain shapefile\n",
    "- Scall setting: \n",
    "  - `< 4ha` fixed setting 5ha\n",
    "  - `> 4ha` dynamic setting 2times of the shape\n",
    "- Label infor in the jpeg: index, image date( from the basedmap `World Imagery` ), \n",
    "- Boundary line of the shape on the jpeg\n",
    "- Only export the last imagery of the Esri world imagery\n",
    "\n",
    "\n",
    "### V1:\n",
    "- Target shapefile: 1823_ADRSM\n",
    "- Important fields: `DEN_BOT`, `AREA_HA`, `Index`, `SHAPE@`\n",
    "- Export only if `AREA_HA` > 10\n",
    "- NICFI datasource imported via GEE in Python notebook\n",
    "- Sentinel-2 data could be imported through several channels; this solution utilizes ArcGIS Pro Living Atlas (AWS host)\n",
    "- Dynamic scale properties:\n",
    "  - If size < 10ha, image will scale at 8 times \n",
    "  - If 10ha < size < 50ha, image will scale at 5 times\n",
    "  - If 50ha < shape size < 100ha, image will scale at 2 times\n",
    "  - If shape size > 100ha, image will scale at 1.3 times\n",
    "\n",
    "- Five Years and 60 images for each dumpsite using NICFI  \n",
    "1. Each block contains the function description\n",
    "2. NICFI:\n",
    "   - Get NICFI\n",
    "   - Add NICFI\n",
    "   - Determine the date range (check the new update)\n",
    "   - Get Project, layout, map, mapview, mapframe\n",
    "   - Processing other Exporting \n",
    "3. Sentinel: \n",
    "   - Add sentinel data from Living Atlas (or other resource option)\n",
    "4. Export multiple date's images (5 years x 12 months) of each shape\n",
    "\n",
    "### Environment:\n",
    "- ArcGIS Pro 3.2.2\n",
    "- Python 3.8.19\n"
   ]
  },
  {
   "cell_type": "markdown",
   "metadata": {},
   "source": [
    "## Basic Function\n",
    "Run basic before export."
   ]
  },
  {
   "cell_type": "markdown",
   "metadata": {},
   "source": [
    "### Parameter setting"
   ]
  },
  {
   "cell_type": "code",
   "execution_count": 51,
   "metadata": {},
   "outputs": [
    {
     "name": "stdout",
     "output_type": "stream",
     "text": [
      "Count of shape of c1823_ADRSM_01ha : 1206\n",
      "Current Time: 2024-07-25 18:32:48.610189\n"
     ]
    }
   ],
   "source": [
    "# Shapefile layer name in arcgis\n",
    "shapefile_layer_name = \"c1823_ADRSM_01ha\"\n",
    "\n",
    "# export jpeg path and folder\n",
    "export_path = r\"C:\\Users\\lycaz\\Desktop\\world_imagery\"\n",
    "\n",
    "# export jpeg resolution\n",
    "export_resolution = 300\n",
    "\n",
    "# minimum  area size of the shapefile \n",
    "min_area = 0.1\n",
    "\n",
    "# lib import \n",
    "import arcpy\n",
    "import datetime\n",
    "# check the shapefile return selected count of feature class\n",
    "print(f\"Count of shape of {shapefile_layer_name} : {arcpy.GetCount_management(shapefile_layer_name)}\") # if selected 1 it will return 1\n",
    "\n",
    "current_time = datetime.datetime.now()\n",
    "print(\"Current Time:\", current_time)"
   ]
  },
  {
   "cell_type": "markdown",
   "metadata": {},
   "source": [
    "#### Basic object fetched"
   ]
  },
  {
   "cell_type": "code",
   "execution_count": 52,
   "metadata": {},
   "outputs": [
    {
     "name": "stdout",
     "output_type": "stream",
     "text": [
      "Current layout name: JpegExport\n",
      "Mapview.extent:  -8154364.42271678 -414167.970613891 -8154145.25723675 -413872.965859518 NaN NaN NaN NaN\n",
      "Mapname:  Map\n",
      "Mfname:  Map Frame\n",
      "Current Time: 2024-07-25 18:32:50.289188\n"
     ]
    }
   ],
   "source": [
    "# Get Project, layout, map, mapview, mapframe\n",
    "# Before using this code , you should open and load both layout window and Map window, or it will erro: mapview is None\n",
    "\n",
    "current_project=arcpy.mp.ArcGISProject(\"CURRENT\")\n",
    "layout=current_project.listLayouts()[1]  # 0 is the dataframe drive layout(text,area) # 1 is the \n",
    "amap=current_project.listMaps()[0]  \n",
    "mv=current_project.activeView    #mv=amap.defaultView\n",
    "mf= layout.listElements(\"MAPFRAME_ELEMENT\")[0]  #get the mapframe in the layout\n",
    "\n",
    "print(\"Current layout name:\",layout.name)\n",
    "print(\"Mapview.extent: \", mv.camera.getExtent())\n",
    "print(\"Mapname: \",amap.name)\n",
    "print(\"Mfname: \",mf.name)\n",
    "current_time = datetime.datetime.now()\n",
    "print(\"Current Time:\", current_time)"
   ]
  },
  {
   "cell_type": "markdown",
   "metadata": {},
   "source": [
    "## Exporting func"
   ]
  },
  {
   "cell_type": "markdown",
   "metadata": {},
   "source": [
    "#### Get Imagery date function"
   ]
  },
  {
   "cell_type": "code",
   "execution_count": 53,
   "metadata": {},
   "outputs": [],
   "source": [
    "import requests\n",
    "\n",
    "def get_imagery_date(lat, lon):\n",
    "    # URL for the ESRI World Imagery REST endpoint\n",
    "    url = \"https://services.arcgisonline.com/ArcGIS/rest/services/World_Imagery/MapServer/identify\"\n",
    "    \n",
    "    # Parameters for the identify operation\n",
    "    params = {\n",
    "        'geometry': f'{lon},{lat}',\n",
    "        'geometryType': 'esriGeometryPoint',\n",
    "        'sr': 4326,\n",
    "        'layers': 'all',\n",
    "        'tolerance': 2,\n",
    "        'mapExtent': f'{lon-0.01},{lat-0.01},{lon+0.01},{lat+0.01}',\n",
    "        'imageDisplay': '800,600,96',\n",
    "        'returnGeometry': False,\n",
    "        'f': 'json'\n",
    "    }\n",
    "    \n",
    "    # Make the request\n",
    "    response = requests.get(url, params=params)\n",
    "    data = response.json()\n",
    "    \n",
    "    # Extract and print relevant metadata\n",
    "    if 'results' in data and len(data['results']) > 0:\n",
    "        for result in data['results']:\n",
    "            if 'attributes' in result:\n",
    "                attributes = result['attributes']\n",
    "                # Extract specific metadata fields (e.g., acquisition date, source, etc.)\n",
    "                if 'AcquisitionDate' in attributes:\n",
    "                    print(f\"Acquisition Date: {attributes['AcquisitionDate']}\")\n",
    "                if 'Source' in attributes:\n",
    "                    print(f\"Source: {attributes['Source']}\")\n",
    "                if 'DATE (YYYYMMDD)' in attributes:\n",
    "                    if attributes['DATE (YYYYMMDD)'] is not None:\n",
    "                        return attributes['DATE (YYYYMMDD)']\n",
    "                    print(f\"Date: {attributes['DATE (YYYYMMDD)']}\")\n",
    "                # Print all available attributes for inspection\n",
    "                \n",
    "    else:\n",
    "        print(\"No imagery information found for the specified location.\")\n",
    "\n",
    "\n",
    "def get_lat_long(camera):\n",
    "    # Get the center of the map view\n",
    "    # Calculate the center point of the extent\n",
    "    extent = camera.getExtent()\n",
    "    center_x = (extent.XMin + extent.XMax) / 2\n",
    "    center_y = (extent.YMin + extent.YMax) / 2\n",
    "    \n",
    "    # Create a point geometry for the center point\n",
    "    center_point = arcpy.PointGeometry(arcpy.Point(center_x, center_y), extent.spatialReference)\n",
    "    \n",
    "    # Define the target spatial reference (WGS84)\n",
    "    target_sr = arcpy.SpatialReference(4326)\n",
    "    \n",
    "    # Project the center point to WGS84\n",
    "    center_point_wgs84 = center_point.projectAs(target_sr)\n",
    "    \n",
    "    # Extract the coordinates in decimal degrees\n",
    "    latitude = center_point_wgs84.centroid.Y\n",
    "    longitude = center_point_wgs84.centroid.X\n",
    "    return latitude, longitude"
   ]
  },
  {
   "cell_type": "markdown",
   "metadata": {},
   "source": [
    "#### Export function"
   ]
  },
  {
   "cell_type": "code",
   "execution_count": 56,
   "metadata": {},
   "outputs": [
    {
     "name": "stdout",
     "output_type": "stream",
     "text": [
      "Exporting function ready path:C:\\Users\\lycaz\\Desktop\\output\n",
      "Current Time: 2024-07-25 18:34:48.399833\n"
     ]
    }
   ],
   "source": [
    "# this function is for export the images \n",
    "# it can be call onetime or iterate all in different year and month datasource set\n",
    "import os\n",
    "\n",
    "#only based on the shape \"1823_ADRSM\" and the \n",
    "# default parameter\n",
    "fc = shapefile_layer_name\n",
    "fields = ['DEN_BOT','AREA_HA','Index',\"SHAPE@\" ]\n",
    "default_path=r\"C:\\Users\\lycaz\\Desktop\\output\"\n",
    "file_type='jpg'\n",
    "min_area=min_area\n",
    "\n",
    "\n",
    "def export_image(path=default_path,src_label=\"EsriWorldImagery\",dpi=150,f_type=file_type,istest=False):\n",
    "    \"\"\"\n",
    "    Brief description of the function.\n",
    "\n",
    "    Parameters:\n",
    "\n",
    "    time (str): Description of param2.\n",
    "    path(str): which folder you want to saved\n",
    "    \n",
    "    Returns:\n",
    "    type: Description of what the function returns.\n",
    "    \"\"\"\n",
    "    print(f\"config:, path:{path}, label:{src_label}, dpi={dpi},f_type{f_type}\")\n",
    "    test_count=50 # only for test\n",
    "    \n",
    "    if os.path.exists(path)==False:\n",
    "        print(\"Path does not exist.\")\n",
    "        return\n",
    "    \n",
    "    with arcpy.da.SearchCursor(fc, fields) as cursor:\n",
    "        count_im=0\n",
    "        for row in cursor:\n",
    "            #print(u'{0}, {1},{2}'.format(row[2],row[0], row[1]))\n",
    "            \n",
    "            print(f\" Processing index {row[2]} {row[0]}\", end=\"\\r\")\n",
    "            if row[1] > min_area: \n",
    "                count_im+=1\n",
    "                print(f\"image coount {count_im}\", end=\"\\r\")\n",
    "                geometry=row[3]\n",
    "                mv.camera.setExtent(geometry.extent)\n",
    "                amap.defaultCamera=mv.camera\n",
    "                amap.defaultCamera.scale*=2\n",
    "                mf.camera.setExtent(amap.defaultCamera.getExtent())\n",
    "                lati,longi=get_lat_long(mf.camera)\n",
    "                date_stamp=get_imagery_date(lati,longi)\n",
    "                print(f\"Current Lat:{lati}, Long:{longi}, Date:{date_stamp}\")\n",
    "                if row[1]<4:\n",
    "                    desired_scale=5/row[1]\n",
    "                    mf.camera.scale*=desired_scale\n",
    "                else:\n",
    "                    mf.camera.scale*=2\n",
    "                ele=layout.listElements(wildcard=\"Text\")[0]\n",
    "                ele.text=f\"{row[2]}-{date_stamp}-{row[1]:.2f}ha\"\n",
    "                ele_source=layout.listElements(wildcard=\"Text 1\")[0]\n",
    "                ele_source.text=src_label\n",
    "                if f_type=='jpg':\n",
    "                    layout.exportToJPEG(f\"{path}\\\\{str(row[2])}-{date_stamp}-{src_label}.jpg\",resolution=dpi)\n",
    "                elif f_type==\"tif\":\n",
    "                    layout.exportToTIFF(f\"{path}\\\\{str(row[2])}-{date_stamp}-{src_label}.tif\") # without geotif\n",
    "\n",
    "            test_count-=1\n",
    "            if istest==True and test_count==0:\n",
    "                break\n",
    "                    \n",
    "                \n",
    "        print('\\n')\n",
    "        print(f\"Complete current the image in: {time} \")\n",
    "    \n",
    "    \n",
    "print(f\"Exporting function ready path:{default_path}\")   \n",
    "    \n",
    "current_time = datetime.datetime.now()\n",
    "print(\"Current Time:\", current_time)"
   ]
  },
  {
   "cell_type": "markdown",
   "metadata": {},
   "source": [
    "## Excute export all the shapes' images"
   ]
  },
  {
   "cell_type": "code",
   "execution_count": 57,
   "metadata": {},
   "outputs": [
    {
     "name": "stdout",
     "output_type": "stream",
     "text": [
      "config:, path:C:\\Users\\lycaz\\Desktop\\output, label:worldimagery, dpi=150,f_typejpg\n",
      "Current Lat:-12.135973026688887, Long:-75.24903611262647, Date:20211119\n",
      "Current Lat:-6.2485940006078735, Long:-79.66107437972877, Date:20230102\n",
      "Current Lat:-7.807486331512859, Long:-77.64293549737525, Date:20220824\n",
      "Current Lat:-12.8345802929423, Long:-76.02301579514277, Date:20221203\n",
      "Current Lat:-6.725945615987959, Long:-76.25526990393287, Date:20180729\n",
      "Current Lat:-10.00543356495644, Long:-77.13246042450893, Date:20210528\n",
      "Current Lat:-13.58234304386884, Long:-71.41688854561986, Date:20170725\n",
      "Current Lat:-17.07857656100099, Long:-70.86770450835633, Date:20221021\n",
      "Current Lat:-12.642937348328381, Long:-73.07202255649574, Date:20210928\n",
      "Current Lat:-15.092733476911372, Long:-69.8173815800958, Date:20210821\n",
      "Current Lat:-12.751728369446727, Long:-74.12661839492296, Date:20190606\n",
      "Current Lat:-1.7893522049580077, Long:-73.40783559133942, Date:20190510ro\n",
      "Current Lat:-13.2021648904659, Long:-70.68698732825257, Date:20190805\n",
      "Current Lat:-14.329629897187182, Long:-70.07554705550217, Date:20210821\n",
      "Current Lat:-10.236259903781663, Long:-77.08311380500805, Date:20210528\n",
      "Current Lat:-8.877072774302585, Long:-76.92662575882166, Date:20180707\n",
      "Current Lat:-14.139729308882947, Long:-70.39162609491831, Date:20200624\n",
      "Current Lat:-7.704529707070637, Long:-77.70205794581751, Date:20180527\n",
      "Current Lat:-10.864592249717981, Long:-77.13156617194126, Date:20210511\n",
      "Current Lat:-11.775154132863896, Long:-75.4071753419684, Date:20221227\n",
      "Current Lat:-14.39622197738565, Long:-69.47515530257513, Date:20220613\n",
      "Current Lat:-12.63454045933038, Long:-75.26621375546044, Date:20221029\n",
      "Current Lat:-12.66210135173318, Long:-74.61903241956044, Date:20200728\n",
      "Current Lat:-6.581986204638034, Long:-78.85512207312514, Date:20200825\n",
      "Current Lat:-7.230011840922616, Long:-78.68693111497893, Date:20200617\n",
      "Current Lat:-9.694875927272712, Long:-76.70884456472484, Date:20180814\n",
      "Current Lat:-12.94494407116078, Long:-71.44784877095398, Date:20190223\n",
      "Current Lat:-12.819595797745801, Long:-71.36605425275152, Date:20201012\n",
      "Current Lat:-13.750434513251143, Long:-72.37604102917012, Date:20120725\n",
      "Current Lat:-12.504421510299705, Long:-76.57133443278778, Date:20220626\n",
      "Current Lat:-12.39967584704291, Long:-75.09034996417945, Date:20210627\n",
      "Current Lat:-12.75863388118206, Long:-74.99697016039454, Date:20200701\n",
      "Current Lat:-12.54951375073126, Long:-74.9386666305605, Date:20190802cha\n",
      "Current Lat:-6.446667333422465, Long:-77.46201155369022, Date:20160913\n",
      "Current Lat:-6.389389954309349, Long:-77.88717487601967, Date:20141120\n",
      "Current Lat:-6.37112838106244, Long:-77.91566777714615, Date:20141120\n",
      "Current Lat:-6.303594435477364, Long:-77.96296374183318, Date:20220615\n",
      "Current Lat:-14.061775546430615, Long:-72.48538815199157, Date:20211002\n",
      "Current Lat:-14.037808950655073, Long:-72.57342632681349, Date:20211002\n",
      "Current Lat:-16.290991153391428, Long:-71.52265464944247, Date:20240110\n",
      "Current Lat:-8.890835755673292, Long:-76.11469624088878, Date:20200811\n",
      "Current Lat:-10.093144163381147, Long:-76.63937547774606, Date:20210809\n",
      "Current Lat:-9.279714694993077, Long:-75.99911944140905, Date:20220926\n",
      "Current Lat:-12.47139589978572, Long:-73.85203578522328, Date:20210708ari\n",
      "Current Lat:-14.436900715535797, Long:-71.26075655137373, Date:20221112\n",
      "Current Lat:-13.67375905241767, Long:-71.69438329949963, Date:20220803\n",
      "Current Lat:-12.51308147194847, Long:-74.9592859523348, Date:20190802\n",
      "Current Lat:-13.932933717931679, Long:-72.47420017115093, Date:20211002\n",
      "Current Lat:-13.830760913405745, Long:-72.4443933816492, Date:20211002\n",
      "Current Lat:-12.135548079969894, Long:-74.52200751648368, Date:20190703\n",
      "\n",
      "\n",
      "Complete current the image in: <module 'time' (built-in)> \n",
      "Start time: Thu Jul 25 18:34:56 2024\n",
      "Stop time: Thu Jul 25 18:37:38 2024\n",
      "Elapsed time: 162.01 seconds\n",
      "Current Time: 2024-07-25 18:37:38.664538\n"
     ]
    }
   ],
   "source": [
    "\n",
    "# Before exporting, confirm the layout is setting well, the tile map is loaded and the shapefile is outlined.\n",
    "\n",
    "\n",
    "# get the certain shape of shapefile  and iterate the shapefile\n",
    "# handle the mv (mapview), do not effect the layout \n",
    "import time \n",
    "start_time = time.time()\n",
    "\n",
    "fc = shapefile_layer_name\n",
    "fields = ['DEN_BOT','AREA_HA','Index',\"SHAPE@\" ]\n",
    "\n",
    "path=r\"C:\\Users\\lycaz\\Desktop\\output\"    # schange it before exporting !!!!!!\n",
    "datasource_str=\"worldimagery\" \n",
    "\n",
    "# call the exporting function for all the shapes in the shapefile\n",
    "export_image(path,datasource_str,150,\"jpg\",False)\n",
    "\n",
    "stop_time = time.time()\n",
    "elapsed_time = stop_time - start_time\n",
    "\n",
    "print(f\"Start time: {time.ctime(start_time)}\")\n",
    "print(f\"Stop time: {time.ctime(stop_time)}\")\n",
    "print(f\"Elapsed time: {elapsed_time:.2f} seconds\")\n",
    "current_time = datetime.datetime.now()\n",
    "print(\"Current Time:\", current_time)"
   ]
  },
  {
   "cell_type": "markdown",
   "metadata": {},
   "source": [
    "### Test the export function"
   ]
  },
  {
   "cell_type": "code",
   "execution_count": 36,
   "metadata": {},
   "outputs": [
    {
     "name": "stdout",
     "output_type": "stream",
     "text": [
      "config:, path:C:\\Users\\lycaz\\Desktop\\output, label:wordimagery, dpi=150,f_typejpg\n",
      "image coount 1dex 50 Botadero Purupampa\n",
      "\n",
      "Complete current the image in: 202403 \n",
      "Start time: Thu Jul 25 16:48:40 2024\n",
      "Stop time: Thu Jul 25 16:48:43 2024\n",
      "Elapsed time: 2.21 seconds\n"
     ]
    }
   ],
   "source": [
    "import time\n",
    "import arcpy\n",
    "\n",
    "stat_time = time.time()\n",
    "\n",
    "fc=shapefile_layer_name\n",
    "fields = ['DEN_BOT','AREA_HA','Index',\"SHAPE@\" ]\n",
    "path=r\"C:\\Users\\lycaz\\Desktop\\output\"    \n",
    "data_source=\"wordimagery\" \n",
    "time_stamp=\"202403\"\n",
    "export_image(path,data_source,150,\"jpg\",True)\n",
    "\n",
    "\n",
    "end_time = time.time()\n",
    "elapsed_time = end_time - stat_time\n",
    "\n",
    "print(f\"Start time: {time.ctime(stat_time)}\")\n",
    "print(f\"Stop time: {time.ctime(end_time)}\")\n",
    "print(f\"Elapsed time: {elapsed_time:.2f} seconds\")"
   ]
  },
  {
   "cell_type": "markdown",
   "metadata": {},
   "source": [
    "#### Test the get_date function\n"
   ]
  },
  {
   "cell_type": "code",
   "execution_count": 44,
   "metadata": {},
   "outputs": [
    {
     "name": "stdout",
     "output_type": "stream",
     "text": [
      "date: 20210809\n",
      "date: 20220816\n",
      "Latitude: -11.366217971175205, Longitude: -76.60685810084154\n"
     ]
    }
   ],
   "source": [
    "\n",
    "# Example usage\n",
    "latitude = -10.09337942  # Replace with your latitude\n",
    "longitude = -76.6385212  # Replace with your longitude\n",
    "print(\"date:\",get_imagery_date(latitude, longitude))\n",
    "\n",
    "import arcpy\n",
    "\n",
    "# Get the current project\n",
    "aprx = arcpy.mp.ArcGISProject(\"CURRENT\")\n",
    "\n",
    "# Get the active map view\n",
    "map_view = aprx.activeView\n",
    "\n",
    "# Check if there's an active view\n",
    "if map_view:\n",
    "    # Get the camera object\n",
    "    camera = map_view.camera\n",
    "    \n",
    "    # Get the camera's extent\n",
    "    extent = camera.getExtent()\n",
    "    \n",
    "    # Calculate the center point of the extent\n",
    "    center_x = (extent.XMin + extent.XMax) / 2\n",
    "    center_y = (extent.YMin + extent.YMax) / 2\n",
    "    \n",
    "    # Create a point geometry for the center point\n",
    "    center_point = arcpy.PointGeometry(arcpy.Point(center_x, center_y), extent.spatialReference)\n",
    "    \n",
    "    # Define the target spatial reference (WGS84)\n",
    "    target_sr = arcpy.SpatialReference(4326)\n",
    "    \n",
    "    # Project the center point to WGS84\n",
    "    center_point_wgs84 = center_point.projectAs(target_sr)\n",
    "    \n",
    "    # Extract the coordinates in decimal degrees\n",
    "    latitude = center_point_wgs84.centroid.Y\n",
    "    longitude = center_point_wgs84.centroid.X\n",
    "    print(\"date:\",get_imagery_date(latitude, longitude))\n",
    "    print(f\"Latitude: {latitude}, Longitude: {longitude}\")\n",
    "else:\n",
    "    print(\"No active map view found.\")"
   ]
  }
 ],
 "metadata": {
  "kernelspec": {
   "display_name": "ArcGISPro",
   "language": "Python",
   "name": "python3"
  },
  "language_info": {
   "file_extension": ".py",
   "name": "python",
   "version": "3"
  }
 },
 "nbformat": 4,
 "nbformat_minor": 2
}
