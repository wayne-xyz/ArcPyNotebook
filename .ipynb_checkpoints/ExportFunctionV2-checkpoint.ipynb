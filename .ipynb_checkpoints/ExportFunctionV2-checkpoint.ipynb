{
 "cells": [
  {
   "cell_type": "markdown",
   "metadata": {},
   "source": [
    "# Export image function notebook within ArcGIS Pro\n"
   ]
  },
  {
   "cell_type": "markdown",
   "metadata": {},
   "source": [
    "## Notebook for Exporting Jpeg Images from NICFI, Sentinel Datasource, Esri Source.\n",
    "\n",
    "### V2:\n",
    "- Export the Esri source `World Imagery` \n",
    "- Based on the certain shapefile\n",
    "- Scall setting: \n",
    "  - `< 4ha` fixed setting 5ha\n",
    "  - `> 4ha` dynamic setting 2times of the shape\n",
    "- Label infor in the jpeg: index, image date( from the basedmap `World Imagery` ), \n",
    "- Boundary line of the shape on the jpeg\n",
    "- Only export the last imagery of the Esri world imagery\n",
    "\n",
    "\n",
    "### V1:\n",
    "- Target shapefile: 1823_ADRSM\n",
    "- Important fields: `DEN_BOT`, `AREA_HA`, `Index`, `SHAPE@`\n",
    "- Export only if `AREA_HA` > 10\n",
    "- NICFI datasource imported via GEE in Python notebook\n",
    "- Sentinel-2 data could be imported through several channels; this solution utilizes ArcGIS Pro Living Atlas (AWS host)\n",
    "- Dynamic scale properties:\n",
    "  - If size < 10ha, image will scale at 8 times \n",
    "  - If 10ha < size < 50ha, image will scale at 5 times\n",
    "  - If 50ha < shape size < 100ha, image will scale at 2 times\n",
    "  - If shape size > 100ha, image will scale at 1.3 times\n",
    "\n",
    "- Five Years and 60 images for each dumpsite using NICFI  \n",
    "1. Each block contains the function description\n",
    "2. NICFI:\n",
    "   - Get NICFI\n",
    "   - Add NICFI\n",
    "   - Determine the date range (check the new update)\n",
    "   - Get Project, layout, map, mapview, mapframe\n",
    "   - Processing other Exporting \n",
    "3. Sentinel: \n",
    "   - Add sentinel data from Living Atlas (or other resource option)\n",
    "4. Export multiple date's images (5 years x 12 months) of each shape\n",
    "\n",
    "### Environment:\n",
    "- ArcGIS Pro 3.2.2\n",
    "- Python 3.8.19\n"
   ]
  },
  {
   "cell_type": "markdown",
   "metadata": {},
   "source": [
    "## Basic Function\n",
    "Run basic before export."
   ]
  },
  {
   "cell_type": "markdown",
   "metadata": {},
   "source": [
    "### Parameter setting"
   ]
  },
  {
   "cell_type": "code",
   "execution_count": 76,
   "metadata": {},
   "outputs": [
    {
     "name": "stdout",
     "output_type": "stream",
     "text": [
      "Count of shape of c1823_ADRSM_01ha : 1206\n",
      "Current Time: 2024-08-01 02:41:18.471735\n"
     ]
    }
   ],
   "source": [
    "# Shapefile layer name in arcgis\n",
    "shapefile_layer_name = \"c1823_ADRSM_01ha\"\n",
    "\n",
    "# export jpeg path and folder\n",
    "export_path = r\"C:\\Users\\lycaz\\Desktop\\world_imagery\"\n",
    "nicfi_path= r\"C:\\Users\\lycaz\\Desktop\\nicfi\"\n",
    "sentinel_path = r\"C:\\Users\\lycaz\\Desktop\\sentinel\"\n",
    "\n",
    "# export jpeg resolution\n",
    "export_resolution = 150\n",
    "\n",
    "# minimum  area size of the shapefile \n",
    "min_area = 0.1\n",
    "\n",
    "# lib import \n",
    "import arcpy\n",
    "import datetime\n",
    "\n",
    "# check the shapefile return selected count of feature class\n",
    "print(f\"Count of shape of {shapefile_layer_name} : {arcpy.GetCount_management(shapefile_layer_name)}\") # if selected 1 it will return 1\n",
    "\n",
    "current_time = datetime.datetime.now()\n",
    "print(\"Current Time:\", current_time)"
   ]
  },
  {
   "cell_type": "markdown",
   "metadata": {},
   "source": [
    "#### Basic object fetched"
   ]
  },
  {
   "cell_type": "code",
   "execution_count": 77,
   "metadata": {},
   "outputs": [
    {
     "name": "stdout",
     "output_type": "stream",
     "text": [
      "Current layout name: JpegExport\n",
      "Mapview.extent:  -8154882.60238801 -415150.474126984 -8153880.41479226 -413369.927553444 NaN NaN NaN NaN\n",
      "Mapname:  Map\n",
      "Mfname:  Map Frame\n",
      "Current Time: 2024-08-01 02:41:20.438920\n"
     ]
    }
   ],
   "source": [
    "# Get Project, layout, map, mapview, mapframe\n",
    "# Before using this code , you should open and load both layout window and Map window, or it will erro: mapview is None\n",
    "\n",
    "current_project=arcpy.mp.ArcGISProject(\"CURRENT\")\n",
    "layout=current_project.listLayouts()[1]  # 0 is the dataframe drive layout(text,area) # 1 is the \n",
    "amap=current_project.listMaps()[0]  \n",
    "mv=current_project.activeView    #mv=amap.defaultView\n",
    "mf= layout.listElements(\"MAPFRAME_ELEMENT\")[0]  #get the mapframe in the layout\n",
    "\n",
    "print(\"Current layout name:\",layout.name)\n",
    "print(\"Mapview.extent: \", mv.camera.getExtent())\n",
    "print(\"Mapname: \",amap.name)\n",
    "print(\"Mfname: \",mf.name)\n",
    "current_time = datetime.datetime.now()\n",
    "print(\"Current Time:\", current_time)"
   ]
  },
  {
   "cell_type": "markdown",
   "metadata": {},
   "source": [
    "## Exporting func"
   ]
  },
  {
   "cell_type": "markdown",
   "metadata": {},
   "source": [
    "#### Get Imagery date function (World Imagery)"
   ]
  },
  {
   "cell_type": "code",
   "execution_count": 78,
   "metadata": {},
   "outputs": [
    {
     "name": "stdout",
     "output_type": "stream",
     "text": [
      "Current Time: 2024-08-01 02:41:23.558931\n"
     ]
    }
   ],
   "source": [
    "import requests\n",
    "\n",
    "def get_imagery_date(lat, lon):\n",
    "    # URL for the ESRI World Imagery REST endpoint\n",
    "    url = \"https://services.arcgisonline.com/ArcGIS/rest/services/World_Imagery/MapServer/identify\"\n",
    "    \n",
    "    # Parameters for the identify operation\n",
    "    params = {\n",
    "        'geometry': f'{lon},{lat}',\n",
    "        'geometryType': 'esriGeometryPoint',\n",
    "        'sr': 4326,\n",
    "        'layers': 'all',\n",
    "        'tolerance': 2,\n",
    "        'mapExtent': f'{lon-0.01},{lat-0.01},{lon+0.01},{lat+0.01}',\n",
    "        'imageDisplay': '800,600,96',\n",
    "        'returnGeometry': False,\n",
    "        'f': 'json'\n",
    "    }\n",
    "    \n",
    "    # Make the request\n",
    "    response = requests.get(url, params=params)\n",
    "    data = response.json()\n",
    "    \n",
    "    # Extract and print relevant metadata\n",
    "    if 'results' in data and len(data['results']) > 0:\n",
    "        for result in data['results']:\n",
    "            if 'attributes' in result:\n",
    "                attributes = result['attributes']\n",
    "                # Extract specific metadata fields (e.g., acquisition date, source, etc.)\n",
    "                if 'AcquisitionDate' in attributes:\n",
    "                    print(f\"Acquisition Date: {attributes['AcquisitionDate']}\")\n",
    "                if 'Source' in attributes:\n",
    "                    print(f\"Source: {attributes['Source']}\")\n",
    "                if 'DATE (YYYYMMDD)' in attributes:\n",
    "                    if attributes['DATE (YYYYMMDD)'] is not None:\n",
    "                        return attributes['DATE (YYYYMMDD)']\n",
    "                    print(f\"Date: {attributes['DATE (YYYYMMDD)']}\")\n",
    "                # Print all available attributes for inspection\n",
    "                \n",
    "    else:\n",
    "        print(\"No imagery information found for the specified location.\")\n",
    "\n",
    "\n",
    "def get_lat_long(camera):\n",
    "    # Get the center of the map view\n",
    "    # Calculate the center point of the extent\n",
    "    extent = camera.getExtent()\n",
    "    center_x = (extent.XMin + extent.XMax) / 2\n",
    "    center_y = (extent.YMin + extent.YMax) / 2\n",
    "    \n",
    "    # Create a point geometry for the center point\n",
    "    center_point = arcpy.PointGeometry(arcpy.Point(center_x, center_y), extent.spatialReference)\n",
    "    \n",
    "    # Define the target spatial reference (WGS84)\n",
    "    target_sr = arcpy.SpatialReference(4326)\n",
    "    \n",
    "    # Project the center point to WGS84\n",
    "    center_point_wgs84 = center_point.projectAs(target_sr)\n",
    "    \n",
    "    # Extract the coordinates in decimal degrees\n",
    "    latitude = center_point_wgs84.centroid.Y\n",
    "    longitude = center_point_wgs84.centroid.X\n",
    "    return latitude, longitude\n",
    "\n",
    "current_time = datetime.datetime.now()\n",
    "print(\"Current Time:\", current_time)"
   ]
  },
  {
   "cell_type": "markdown",
   "metadata": {},
   "source": [
    "#### Export function"
   ]
  },
  {
   "cell_type": "code",
   "execution_count": 79,
   "metadata": {},
   "outputs": [
    {
     "name": "stdout",
     "output_type": "stream",
     "text": [
      "Exporting function ready path:C:\\Users\\lycaz\\Desktop\\output\n",
      "Current Time: 2024-08-01 02:41:28.204443\n"
     ]
    }
   ],
   "source": [
    "# this function is for export the images \n",
    "# it can be call onetime or iterate all in different year and month datasource set\n",
    "import os\n",
    "\n",
    "#only based on the shape \"1823_ADRSM\" and the \n",
    "# default parameter\n",
    "fc = shapefile_layer_name\n",
    "fields = ['DEN_BOT','AREA_HA','Index',\"SHAPE@\" ]\n",
    "default_path=r\"C:\\Users\\lycaz\\Desktop\\output\"\n",
    "file_type='jpg'\n",
    "min_area=min_area\n",
    "\n",
    "\n",
    "def export_image(path=default_path,src_label=\"EsriWorldImagery\",dpi=150,f_type=file_type,istest=False):\n",
    "    \"\"\"\n",
    "    Brief description of the function.\n",
    "\n",
    "    Parameters:\n",
    "        path (str): path to save the image\n",
    "        src_label(str): which source label you want to show\n",
    "        dpi(int): resolution of the image\n",
    "        f_type(str): file type of the image\n",
    "        istest(bool): if it is test mode, it will only export 50 images\n",
    "    \"\"\"\n",
    "    print(f\"config:, path:{path}, label:{src_label}, dpi={dpi},f_type{f_type}\")\n",
    "    test_count=50 # only for test\n",
    "    \n",
    "    if os.path.exists(path)==False:\n",
    "        print(\"Path does not exist.\")\n",
    "        return\n",
    "    \n",
    "    with arcpy.da.SearchCursor(fc, fields) as cursor:\n",
    "        count_im=0\n",
    "        for row in cursor:\n",
    "            #print(u'{0}, {1},{2}'.format(row[2],row[0], row[1]))\n",
    "            \n",
    "            print(f\" Processing index {row[2]} {row[0]}\", end=\"\\r\")\n",
    "            if row[1] > min_area: \n",
    "                count_im+=1\n",
    "                print(f\"image coount {count_im}\", end=\"\\r\")\n",
    "                geometry=row[3]\n",
    "                mv.camera.setExtent(geometry.extent)\n",
    "                amap.defaultCamera=mv.camera\n",
    "                amap.defaultCamera.scale*=2\n",
    "                mf.camera.setExtent(amap.defaultCamera.getExtent())\n",
    "                lati,longi=get_lat_long(mf.camera)\n",
    "                date_stamp=get_imagery_date(lati,longi)\n",
    "                print(f\"Current Lat:{lati}, Long:{longi}, Date:{date_stamp}\")\n",
    "                if row[1]<4:\n",
    "                    desired_scale=5/row[1]\n",
    "                    mf.camera.scale*=desired_scale\n",
    "                else:\n",
    "                    mf.camera.scale*=2\n",
    "                ele=layout.listElements(wildcard=\"Text\")[0]\n",
    "                ele.text=f\"{row[2]}-{date_stamp}-{row[1]:.2f}ha\"\n",
    "                ele_source=layout.listElements(wildcard=\"Text 1\")[0]\n",
    "                ele_source.text=src_label\n",
    "                if f_type=='jpg':\n",
    "                    layout.exportToJPEG(f\"{path}\\\\{str(row[2])}-{date_stamp}-{src_label}.jpg\",resolution=dpi)\n",
    "                elif f_type==\"tif\":\n",
    "                    layout.exportToTIFF(f\"{path}\\\\{str(row[2])}-{date_stamp}-{src_label}.tif\") # without geotif\n",
    "\n",
    "            test_count-=1\n",
    "            if istest==True and test_count==0:\n",
    "                break\n",
    "                    \n",
    "\n",
    "# for any with date\n",
    "def export_image_date(date_stamp,path=default_path,src_label=\"EsriWorldImagery\",dpi=150,f_type=file_type,istest=False):\n",
    "    \"\"\"\n",
    "    Brief description of the function.\n",
    "\n",
    "    Parameters:\n",
    "        date_stamp(str): date of the image\n",
    "        path (str): path to save the image\n",
    "        src_label(str): which source label you want to show\n",
    "        dpi(int): resolution of the image\n",
    "        f_type(str): file type of the image\n",
    "        istest(bool): if it is test mode, it will only export 50 images\n",
    "    \"\"\"\n",
    "    print(f\"config:,date: {date_stamp} path:{path}, label:{src_label}, dpi={dpi},f_type{f_type}\")\n",
    "    test_count=50 # only for test\n",
    "    \n",
    "    if os.path.exists(path)==False:\n",
    "        print(\"Path does not exist.\")\n",
    "        return\n",
    "    \n",
    "    with arcpy.da.SearchCursor(fc, fields) as cursor:\n",
    "        count_im=0\n",
    "        for row in cursor:\n",
    "            #print(u'{0}, {1},{2}'.format(row[2],row[0], row[1]))\n",
    "            \n",
    "            print(f\" Processing index {row[2]}\", end=\"\\r\")\n",
    "            if row[1] > min_area: \n",
    "                count_im+=1\n",
    "                print(f\"image coount {count_im}\", end=\"\\r\")\n",
    "                geometry=row[3]\n",
    "                mv.camera.setExtent(geometry.extent)\n",
    "                amap.defaultCamera=mv.camera\n",
    "                amap.defaultCamera.scale*=2\n",
    "                mf.camera.setExtent(amap.defaultCamera.getExtent())\n",
    "\n",
    "                if row[1]<4:\n",
    "                    desired_scale=5/row[1]\n",
    "                    mf.camera.scale*=desired_scale\n",
    "                else:\n",
    "                    mf.camera.scale*=2\n",
    "                ele=layout.listElements(wildcard=\"Text\")[0]\n",
    "                ele.text=f\"{row[2]}-{date_stamp}-{row[1]:.2f}ha\"\n",
    "                ele_source=layout.listElements(wildcard=\"Text 1\")[0]\n",
    "                ele_source.text=src_label\n",
    "                if f_type=='jpg':\n",
    "                    layout.exportToJPEG(f\"{path}\\\\{str(row[2])}-{date_stamp}-{src_label}.jpg\",resolution=dpi)\n",
    "                elif f_type==\"tif\":\n",
    "                    layout.exportToTIFF(f\"{path}\\\\{str(row[2])}-{date_stamp}-{src_label}.tif\") # without geotif\n",
    "\n",
    "            test_count-=1\n",
    "            if istest==True and test_count==0:\n",
    "                break\n",
    "\n",
    "\n",
    "    \n",
    "print(f\"Exporting function ready path:{default_path}\")   \n",
    "    \n",
    "current_time = datetime.datetime.now()\n",
    "print(\"Current Time:\", current_time)"
   ]
  },
  {
   "cell_type": "markdown",
   "metadata": {},
   "source": [
    "## Excute export all the shapes' images"
   ]
  },
  {
   "cell_type": "markdown",
   "metadata": {},
   "source": [
    "#### Esri Basemap World Imagery"
   ]
  },
  {
   "cell_type": "code",
   "execution_count": null,
   "metadata": {},
   "outputs": [],
   "source": [
    "\n",
    "# Before exporting, confirm the layout is setting well, the tile map is loaded and the shapefile is outlined.\n",
    "\n",
    "\n",
    "# get the certain shape of shapefile  and iterate the shapefile\n",
    "# handle the mv (mapview), do not effect the layout \n",
    "import time \n",
    "start_time = time.time()\n",
    "\n",
    "fc = shapefile_layer_name\n",
    "fields = ['DEN_BOT','AREA_HA','Index',\"SHAPE@\" ]\n",
    "\n",
    "path=r\"C:\\Users\\lycaz\\Desktop\\output\"    # schange it before exporting !!!!!!\n",
    "datasource_str=\"worldimagery\" \n",
    "\n",
    "# call the exporting function for all the shapes in the shapefile\n",
    "export_image(path,datasource_str,150,\"jpg\",False)\n",
    "\n",
    "stop_time = time.time()\n",
    "elapsed_time = stop_time - start_time\n",
    "\n",
    "print(f\"Start time: {time.ctime(start_time)}\")\n",
    "print(f\"Stop time: {time.ctime(stop_time)}\")\n",
    "print(f\"Elapsed time: {elapsed_time:.2f} seconds\")\n",
    "current_time = datetime.datetime.now()\n",
    "print(\"Current Time:\", current_time)"
   ]
  },
  {
   "cell_type": "markdown",
   "metadata": {},
   "source": [
    "#### Nicfi"
   ]
  },
  {
   "cell_type": "code",
   "execution_count": 28,
   "metadata": {},
   "outputs": [
    {
     "name": "stdout",
     "output_type": "stream",
     "text": [
      "nicfi datespan: ['2015-12-01T00:00:00', '2016-06-01T00:00:00', '2016-12-01T00:00:00', '2017-06-01T00:00:00', '2017-12-01T00:00:00', '2018-06-01T00:00:00', '2018-12-01T00:00:00', '2019-06-01T00:00:00', '2019-12-01T00:00:00', '2020-06-01T00:00:00', '2020-09-01T00:00:00', '2020-10-01T00:00:00', '2020-11-01T00:00:00', '2020-12-01T00:00:00', '2021-01-01T00:00:00', '2021-02-01T00:00:00', '2021-03-01T00:00:00', '2021-04-01T00:00:00', '2021-05-01T00:00:00', '2021-06-01T00:00:00', '2021-07-01T00:00:00', '2021-08-01T00:00:00', '2021-09-01T00:00:00', '2021-10-01T00:00:00', '2021-11-01T00:00:00', '2021-12-01T00:00:00', '2022-01-01T00:00:00', '2022-02-01T00:00:00', '2022-03-01T00:00:00', '2022-04-01T00:00:00', '2022-05-01T00:00:00', '2022-06-01T00:00:00', '2022-07-01T00:00:00', '2022-08-01T00:00:00', '2022-09-01T00:00:00', '2022-10-01T00:00:00', '2022-11-01T00:00:00', '2022-12-01T00:00:00', '2023-01-01T00:00:00', '2023-02-01T00:00:00', '2023-03-01T00:00:00', '2023-04-01T00:00:00', '2023-05-01T00:00:00', '2023-06-01T00:00:00', '2023-07-01T00:00:00', '2023-08-01T00:00:00', '2023-09-01T00:00:00', '2023-10-01T00:00:00', '2023-11-01T00:00:00', '2023-12-01T00:00:00', '2024-01-01T00:00:00', '2024-02-01T00:00:00', '2024-03-01T00:00:00', '2024-04-01T00:00:00', '2024-05-01T00:00:00', '2024-06-01T00:00:00']\n",
      "Basemap loaded\n",
      "Current Time: 2024-07-31 01:15:36.512142\n"
     ]
    }
   ],
   "source": [
    "import ee\n",
    "import geemap\n",
    "\n",
    "# Trigger the authentication flow.\n",
    "ee.Authenticate()\n",
    "\n",
    "# Initialize the library.\n",
    "ee.Initialize(project='ee-qinheyi')\n",
    "\n",
    "# init the map\n",
    "m=geemap.Map()\n",
    "\n",
    "nicfi = ee.ImageCollection('projects/planet-nicfi/assets/basemaps/americas')\n",
    "\n",
    "# check the date range of image collection\n",
    "def getDateRange(imageCollection:ee.ImageCollection):\n",
    "    dateRange=imageCollection.aggregate_array('system:time_start')\n",
    "    date_list=[ee.Date(date).format().getInfo() for date in dateRange.getInfo()]\n",
    "    return date_list\n",
    "\n",
    "start_date=\"2024-01-01\"\n",
    "end_date=\"2024-02-01\"\n",
    "\n",
    "# imageRange=getDateRange(nicfi) # because of the server-side function.\n",
    "\n",
    "baseMap=nicfi.filter(ee.Filter.date(start_date,end_date)).sort('system:time_start', False).first()\n",
    "\n",
    "print(\"nicfi datespan:\",getDateRange(nicfi))\n",
    "print(\"Basemap loaded\")\n",
    "current_time = datetime.datetime.now()\n",
    "print(\"Current Time:\", current_time)\n"
   ]
  },
  {
   "cell_type": "code",
   "execution_count": 29,
   "metadata": {},
   "outputs": [
    {
     "data": {
      "application/vnd.jupyter.widget-view+json": {
       "model_id": "717b1b1776aa4cf0a0d2528218123c38",
       "version_major": 2,
       "version_minor": 0
      },
      "text/plain": [
       "Map(center=[0, 0], controls=(WidgetControl(options=['position', 'transparent_bg'], widget=SearchDataGUI(childr…"
      ]
     },
     "metadata": {},
     "output_type": "display_data"
    },
    {
     "name": "stdout",
     "output_type": "stream",
     "text": [
      "Map show complete\n",
      "Current Time: 2024-07-31 01:15:57.954608\n"
     ]
    }
   ],
   "source": [
    "\n",
    "vis={'bands':['R','G','B'],'min':64,'max':5454,'gamma':1.8}  # original vis\n",
    "m.addLayer(baseMap,vis,f'nicfi{start_date}')\n",
    "m.height='800px'\n",
    "display(m)\n",
    "print(\"Map show complete\")\n",
    "current_time = datetime.datetime.now()\n",
    "print(\"Current Time:\", current_time)\n"
   ]
  },
  {
   "cell_type": "code",
   "execution_count": 30,
   "metadata": {},
   "outputs": [
    {
     "name": "stdout",
     "output_type": "stream",
     "text": [
      "config:,date: 20240101 path:C:\\Users\\lycaz\\Desktop\\nicfi, label:nicfi, dpi=150,f_typejpg\n",
      "Start time: Wed Jul 31 01:16:08 2024\n",
      "Stop time: Wed Jul 31 01:51:11 2024\n",
      "Elapsed time: 2103.68 seconds\n",
      "Current Time: 2024-07-31 01:51:11.960102\n"
     ]
    }
   ],
   "source": [
    "import time \n",
    "start_time = time.time()\n",
    "\n",
    "fc = shapefile_layer_name\n",
    "fields = ['DEN_BOT','AREA_HA','Index',\"SHAPE@\" ]\n",
    "date_str=start_date.replace(\"-\",\"\")\n",
    "path=r\"C:\\Users\\lycaz\\Desktop\\nicfi\"    \n",
    "datasource_str=\"nicfi\" \n",
    "\n",
    "# call the exporting function for all the shapes in the shapefile\n",
    "export_image_date(date_str,path,datasource_str,export_resolution,\"jpg\",False)\n",
    "\n",
    "stop_time = time.time()\n",
    "elapsed_time = stop_time - start_time\n",
    "\n",
    "print(f\"Start time: {time.ctime(start_time)}\")\n",
    "print(f\"Stop time: {time.ctime(stop_time)}\")\n",
    "print(f\"Elapsed time: {elapsed_time:.2f} seconds\")\n",
    "current_time = datetime.datetime.now()\n",
    "print(\"Current Time:\", current_time)"
   ]
  },
  {
   "cell_type": "markdown",
   "metadata": {},
   "source": [
    "## Sentinel"
   ]
  },
  {
   "cell_type": "code",
   "execution_count": 80,
   "metadata": {},
   "outputs": [
    {
     "name": "stdout",
     "output_type": "stream",
     "text": [
      "Current Time: 2024-08-01 02:41:32.932187\n"
     ]
    }
   ],
   "source": [
    "import datetime\n",
    "\n",
    "# setting the date range for sentinel jpeg export\n",
    "start_date=\"2024-01-01\"\n",
    "end_date=\"2024-01-10\"\n",
    "\n",
    "# setting the sentinel layer\n",
    "sentinel_layer_name=\"Sentinel2L2A\"\n",
    "\n",
    "# set the export path\n",
    "sentinel_path = r\"C:\\Users\\lycaz\\Desktop\\sentinel\"\n",
    "\n",
    "# set export file type\n",
    "file_type='jpg'\n",
    "\n",
    "current_time = datetime.datetime.now()\n",
    "print(\"Current Time:\", current_time)"
   ]
  },
  {
   "cell_type": "code",
   "execution_count": 81,
   "metadata": {},
   "outputs": [
    {
     "name": "stdout",
     "output_type": "stream",
     "text": [
      "2015-07-04 10:10:06 2024-04-17 14:37:49\n",
      "Current Time: 2024-08-01 02:41:36.287586\n"
     ]
    }
   ],
   "source": [
    "# check the layer in the ArcGIS pro , and the time series of the layer\n",
    "sentinel_layer=None\n",
    "# get the sentinel layer\n",
    "for lyr in amap.listLayers():\n",
    "    if lyr.supports('TIME'):\n",
    "        if lyr.name==sentinel_layer_name:\n",
    "            lyr.isTimeEnabled==True\n",
    "            # get the sentinel2l2a layer with time series\n",
    "            sentinel_layer=lyr\n",
    "            print(lyr.time.startTime, lyr.time.endTime)  # check the currently time of layer\n",
    "current_time = datetime.datetime.now()\n",
    "print(\"Current Time:\", current_time)"
   ]
  },
  {
   "cell_type": "code",
   "execution_count": null,
   "metadata": {},
   "outputs": [
    {
     "name": "stdout",
     "output_type": "stream",
     "text": [
      "start date:2024-01-01 00:00:00, end date:2024-01-10 00:00:00\n",
      "date_stamp:20240101\n",
      "config:,date: 20240101 path:C:\\Users\\lycaz\\Desktop\\sentinel, label:nicfi, dpi=150,f_typejpg\n",
      "image coount 29ex 31\r"
     ]
    }
   ],
   "source": [
    "import arcpy, os\n",
    "import datetime\n",
    "from dateutil.relativedelta import relativedelta\n",
    "import time \n",
    "\n",
    "s_p_time=time.time()\n",
    "\n",
    "# maptime to change the time of basemap \n",
    "t=mf.time\n",
    "\n",
    "t.currentTimeStart=datetime.datetime.strptime(start_date,\"%Y-%m-%d\")\n",
    "t.currentTimeEnd=datetime.datetime.strptime(end_date,\"%Y-%m-%d\")\n",
    "\n",
    "t.setTimeInclusion('INCLUDE_ONLY_START')\n",
    "\n",
    "start_m_date=datetime.datetime.strptime(start_date,\"%Y-%m-%d\")\n",
    "for i in range(0,3):\n",
    "    # 3 time per month, like 0101-0110,0110-0120,0120-0131\n",
    "    print(f\"start date:{t.currentTimeStart}, end date:{t.currentTimeEnd}\")\n",
    "    # excute the image export function\n",
    "    \n",
    "    date_stamp=t.currentTimeStart.strftime(\"%Y%m%d\")\n",
    "    print(f\"date_stamp:{date_stamp}\")\n",
    "    path=sentinel_path\n",
    "    export_image_date(date_str,path,\"sentinel\",export_resolution,\"jpg\",False)\n",
    "\n",
    "    # set the time range of the map\n",
    "    t.currentTimeStart=t.currentTimeEnd\n",
    "    t.currentTimeEnd=t.timeStep(t.currentTimeEnd,10,'days')\n",
    "\n",
    "\n",
    "    # sleep 5 seconds to wait the map to change\n",
    "    time.sleep(3)\n",
    "\n",
    "    \n",
    "    \n",
    "\n",
    "end_p_time = time.time()\n",
    "elapsed_time = end_p_time - s_p_time\n",
    "print(f\"Start time: {time.ctime(s_p_time)}\")\n",
    "print(f\"Stop time: {time.ctime(end_p_time)}\")\n",
    "print(f\"Elapsed time: {elapsed_time:.2f} seconds\")    \n",
    "     \n"
   ]
  },
  {
   "cell_type": "markdown",
   "metadata": {},
   "source": [
    "### Test the export function"
   ]
  },
  {
   "cell_type": "code",
   "execution_count": 36,
   "metadata": {},
   "outputs": [
    {
     "name": "stdout",
     "output_type": "stream",
     "text": [
      "config:, path:C:\\Users\\lycaz\\Desktop\\output, label:wordimagery, dpi=150,f_typejpg\n",
      "image coount 1dex 50 Botadero Purupampa\n",
      "\n",
      "Complete current the image in: 202403 \n",
      "Start time: Thu Jul 25 16:48:40 2024\n",
      "Stop time: Thu Jul 25 16:48:43 2024\n",
      "Elapsed time: 2.21 seconds\n"
     ]
    }
   ],
   "source": [
    "import time\n",
    "import arcpy\n",
    "\n",
    "stat_time = time.time()\n",
    "\n",
    "fc=shapefile_layer_name\n",
    "fields = ['DEN_BOT','AREA_HA','Index',\"SHAPE@\" ]\n",
    "path=r\"C:\\Users\\lycaz\\Desktop\\output\"    \n",
    "data_source=\"wordimagery\" \n",
    "time_stamp=\"202403\"\n",
    "export_image(path,data_source,150,\"jpg\",True)\n",
    "\n",
    "\n",
    "end_time = time.time()\n",
    "elapsed_time = end_time - stat_time\n",
    "\n",
    "print(f\"Start time: {time.ctime(stat_time)}\")\n",
    "print(f\"Stop time: {time.ctime(end_time)}\")\n",
    "print(f\"Elapsed time: {elapsed_time:.2f} seconds\")"
   ]
  },
  {
   "cell_type": "markdown",
   "metadata": {},
   "source": [
    "#### Test the get_date function\n"
   ]
  },
  {
   "cell_type": "code",
   "execution_count": 44,
   "metadata": {},
   "outputs": [
    {
     "name": "stdout",
     "output_type": "stream",
     "text": [
      "date: 20210809\n",
      "date: 20220816\n",
      "Latitude: -11.366217971175205, Longitude: -76.60685810084154\n"
     ]
    }
   ],
   "source": [
    "\n",
    "# Example usage\n",
    "latitude = -10.09337942  # Replace with your latitude\n",
    "longitude = -76.6385212  # Replace with your longitude\n",
    "print(\"date:\",get_imagery_date(latitude, longitude))\n",
    "\n",
    "import arcpy\n",
    "\n",
    "# Get the current project\n",
    "aprx = arcpy.mp.ArcGISProject(\"CURRENT\")\n",
    "\n",
    "# Get the active map view\n",
    "map_view = aprx.activeView\n",
    "\n",
    "# Check if there's an active view\n",
    "if map_view:\n",
    "    # Get the camera object\n",
    "    camera = map_view.camera\n",
    "    \n",
    "    # Get the camera's extent\n",
    "    extent = camera.getExtent()\n",
    "    \n",
    "    # Calculate the center point of the extent\n",
    "    center_x = (extent.XMin + extent.XMax) / 2\n",
    "    center_y = (extent.YMin + extent.YMax) / 2\n",
    "    \n",
    "    # Create a point geometry for the center point\n",
    "    center_point = arcpy.PointGeometry(arcpy.Point(center_x, center_y), extent.spatialReference)\n",
    "    \n",
    "    # Define the target spatial reference (WGS84)\n",
    "    target_sr = arcpy.SpatialReference(4326)\n",
    "    \n",
    "    # Project the center point to WGS84\n",
    "    center_point_wgs84 = center_point.projectAs(target_sr)\n",
    "    \n",
    "    # Extract the coordinates in decimal degrees\n",
    "    latitude = center_point_wgs84.centroid.Y\n",
    "    longitude = center_point_wgs84.centroid.X\n",
    "    print(\"date:\",get_imagery_date(latitude, longitude))\n",
    "    print(f\"Latitude: {latitude}, Longitude: {longitude}\")\n",
    "else:\n",
    "    print(\"No active map view found.\")"
   ]
  },
  {
   "cell_type": "markdown",
   "metadata": {},
   "source": [
    "### Reognize the files "
   ]
  },
  {
   "cell_type": "code",
   "execution_count": 1,
   "metadata": {},
   "outputs": [],
   "source": [
    "target_path=r\"C:\\Users\\lycaz\\Desktop\\nicfi\"\n",
    "\n",
    "# delet the files which contains `2024-07`\n",
    "import os\n",
    "\n",
    "def delete_files(target_path, keyword):\n",
    "    for file in os.listdir(target_path):\n",
    "        if keyword in file:\n",
    "            os.remove(os.path.join(target_path, file))\n",
    "            print(f\"Deleted {file}\")\n",
    "\n",
    "def show_count(target_path, keyword):\n",
    "    count=0\n",
    "    for file in os.listdir(target_path):\n",
    "        if keyword in file:\n",
    "            count+=1\n",
    "    print(f\"Count of {keyword} : {count}\")\n"
   ]
  },
  {
   "cell_type": "code",
   "execution_count": 4,
   "metadata": {},
   "outputs": [
    {
     "name": "stdout",
     "output_type": "stream",
     "text": [
      "Count of 202406 : 1206\n",
      "Count of 202405 : 1206\n",
      "Count of 202404 : 1206\n",
      "Count of 202403 : 1206\n",
      "Count of 202402 : 1206\n",
      "Count of 202401 : 1206\n"
     ]
    }
   ],
   "source": [
    "show_count(target_path, \"202406\")\n",
    "show_count(target_path, \"202405\")\n",
    "show_count(target_path, \"202404\")\n",
    "show_count(target_path, \"202403\")\n",
    "show_count(target_path, \"202402\")\n",
    "show_count(target_path, \"202401\")\n"
   ]
  }
 ],
 "metadata": {
  "kernelspec": {
   "display_name": "ArcGISPro",
   "language": "Python",
   "name": "python3"
  },
  "language_info": {
   "file_extension": ".py",
   "name": "python",
   "version": "3"
  }
 },
 "nbformat": 4,
 "nbformat_minor": 2
}
